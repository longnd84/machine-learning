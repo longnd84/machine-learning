{
 "cells": [
  {
   "cell_type": "markdown",
   "metadata": {},
   "source": [
    "# Project 2: Supervised Learning\n",
    "### Building a Student Intervention System"
   ]
  },
  {
   "cell_type": "markdown",
   "metadata": {},
   "source": [
    "## 1. Classification vs Regression\n",
    "\n",
    "This \"student early intervention\" supervised machine learning require classification technique because the expected output is discrete: pass or fail. \n"
   ]
  },
  {
   "cell_type": "markdown",
   "metadata": {},
   "source": [
    "## 2. Exploring the Data\n",
    "\n",
    "Let's go ahead and read in the student dataset first.\n",
    "\n",
    "_To execute a code cell, click inside it and press **Shift+Enter**._"
   ]
  },
  {
   "cell_type": "code",
   "execution_count": 1,
   "metadata": {
    "collapsed": false
   },
   "outputs": [],
   "source": [
    "# Import libraries\n",
    "import numpy as np\n",
    "import pandas as pd\n",
    "from sklearn.cross_validation import train_test_split"
   ]
  },
  {
   "cell_type": "code",
   "execution_count": 2,
   "metadata": {
    "collapsed": false
   },
   "outputs": [
    {
     "name": "stdout",
     "output_type": "stream",
     "text": [
      "Student data read successfully!\n"
     ]
    }
   ],
   "source": [
    "# Read student data\n",
    "student_data = pd.read_csv(\"student-data.csv\")\n",
    "print \"Student data read successfully!\"\n",
    "# Note: The last column 'passed' is the target/label, all other are feature columns"
   ]
  },
  {
   "cell_type": "markdown",
   "metadata": {},
   "source": [
    "Now, can you find out the following facts about the dataset?\n",
    "- Total number of students\n",
    "- Number of students who passed\n",
    "- Number of students who failed\n",
    "- Graduation rate of the class (%)\n",
    "- Number of features\n",
    "\n",
    "_Use the code block below to compute these values. Instructions/steps are marked using **TODO**s._"
   ]
  },
  {
   "cell_type": "code",
   "execution_count": 3,
   "metadata": {
    "collapsed": false
   },
   "outputs": [
    {
     "name": "stdout",
     "output_type": "stream",
     "text": [
      "Total number of students: 395\n",
      "Number of students who passed: 265\n",
      "Number of students who failed: 130\n",
      "Number of features: 30\n",
      "Graduation rate of the class: 67.09%\n"
     ]
    }
   ],
   "source": [
    "#explore data\n",
    "n_students = len(student_data.axes[0])\n",
    "n_features = len(student_data.axes[1]) - 1 #exclude last feature\n",
    "n_passed =  len(student_data[student_data.passed=='yes'].axes[0])\n",
    "n_failed = len(student_data[student_data.passed=='no'].axes[0])\n",
    "grad_rate = (n_passed * 100.0) / n_students\n",
    "print \"Total number of students: {}\".format(n_students)\n",
    "print \"Number of students who passed: {}\".format(n_passed)\n",
    "print \"Number of students who failed: {}\".format(n_failed)\n",
    "print \"Number of features: {}\".format(n_features)\n",
    "print \"Graduation rate of the class: {:.2f}%\".format(grad_rate)"
   ]
  },
  {
   "cell_type": "markdown",
   "metadata": {},
   "source": [
    "## 3. Preparing the Data\n",
    "In this section, we will prepare the data for modeling, training and testing.\n",
    "\n",
    "### Identify feature and target columns\n",
    "It is often the case that the data you obtain contains non-numeric features. This can be a problem, as most machine learning algorithms expect numeric data to perform computations with.\n",
    "\n",
    "Let's first separate our data into feature and target columns, and see if any features are non-numeric.<br/>\n",
    "**Note**: For this dataset, the last column (`'passed'`) is the target or label we are trying to predict."
   ]
  },
  {
   "cell_type": "code",
   "execution_count": 4,
   "metadata": {
    "collapsed": false
   },
   "outputs": [
    {
     "name": "stdout",
     "output_type": "stream",
     "text": [
      "Feature column(s):-\n",
      "['school', 'sex', 'age', 'address', 'famsize', 'Pstatus', 'Medu', 'Fedu', 'Mjob', 'Fjob', 'reason', 'guardian', 'traveltime', 'studytime', 'failures', 'schoolsup', 'famsup', 'paid', 'activities', 'nursery', 'higher', 'internet', 'romantic', 'famrel', 'freetime', 'goout', 'Dalc', 'Walc', 'health', 'absences']\n",
      "Target column: passed\n",
      "\n",
      "Feature values:-\n",
      "  school sex  age address famsize Pstatus  Medu  Fedu     Mjob      Fjob  \\\n",
      "0     GP   F   18       U     GT3       A     4     4  at_home   teacher   \n",
      "1     GP   F   17       U     GT3       T     1     1  at_home     other   \n",
      "2     GP   F   15       U     LE3       T     1     1  at_home     other   \n",
      "3     GP   F   15       U     GT3       T     4     2   health  services   \n",
      "4     GP   F   16       U     GT3       T     3     3    other     other   \n",
      "\n",
      "    ...    higher internet  romantic  famrel  freetime goout Dalc Walc health  \\\n",
      "0   ...       yes       no        no       4         3     4    1    1      3   \n",
      "1   ...       yes      yes        no       5         3     3    1    1      3   \n",
      "2   ...       yes      yes        no       4         3     2    2    3      3   \n",
      "3   ...       yes      yes       yes       3         2     2    1    1      5   \n",
      "4   ...       yes       no        no       4         3     2    1    2      5   \n",
      "\n",
      "  absences  \n",
      "0        6  \n",
      "1        4  \n",
      "2       10  \n",
      "3        2  \n",
      "4        4  \n",
      "\n",
      "[5 rows x 30 columns]\n"
     ]
    }
   ],
   "source": [
    "# Extract feature (X) and target (y) columns\n",
    "feature_cols = list(student_data.columns[:-1])  # all columns but last are features\n",
    "target_col = student_data.columns[-1]  # last column is the target/label\n",
    "print \"Feature column(s):-\\n{}\".format(feature_cols)\n",
    "print \"Target column: {}\".format(target_col)\n",
    "\n",
    "X_all = student_data[feature_cols]  # feature values for all students\n",
    "y_all = student_data[target_col]  # corresponding targets/labels\n",
    "print \"\\nFeature values:-\"\n",
    "print X_all.head()  # print the first 5 rows"
   ]
  },
  {
   "cell_type": "markdown",
   "metadata": {},
   "source": [
    "### Preprocess feature columns\n",
    "\n",
    "As you can see, there are several non-numeric columns that need to be converted! Many of them are simply `yes`/`no`, e.g. `internet`. These can be reasonably converted into `1`/`0` (binary) values.\n",
    "\n",
    "Other columns, like `Mjob` and `Fjob`, have more than two values, and are known as _categorical variables_. The recommended way to handle such a column is to create as many columns as possible values (e.g. `Fjob_teacher`, `Fjob_other`, `Fjob_services`, etc.), and assign a `1` to one of them and `0` to all others.\n",
    "\n",
    "These generated columns are sometimes called _dummy variables_, and we will use the [`pandas.get_dummies()`](http://pandas.pydata.org/pandas-docs/stable/generated/pandas.get_dummies.html?highlight=get_dummies#pandas.get_dummies) function to perform this transformation."
   ]
  },
  {
   "cell_type": "code",
   "execution_count": 5,
   "metadata": {
    "collapsed": false
   },
   "outputs": [
    {
     "name": "stdout",
     "output_type": "stream",
     "text": [
      "Processed feature columns (48):-\n",
      "['school_GP', 'school_MS', 'sex_F', 'sex_M', 'age', 'address_R', 'address_U', 'famsize_GT3', 'famsize_LE3', 'Pstatus_A', 'Pstatus_T', 'Medu', 'Fedu', 'Mjob_at_home', 'Mjob_health', 'Mjob_other', 'Mjob_services', 'Mjob_teacher', 'Fjob_at_home', 'Fjob_health', 'Fjob_other', 'Fjob_services', 'Fjob_teacher', 'reason_course', 'reason_home', 'reason_other', 'reason_reputation', 'guardian_father', 'guardian_mother', 'guardian_other', 'traveltime', 'studytime', 'failures', 'schoolsup', 'famsup', 'paid', 'activities', 'nursery', 'higher', 'internet', 'romantic', 'famrel', 'freetime', 'goout', 'Dalc', 'Walc', 'health', 'absences']\n"
     ]
    }
   ],
   "source": [
    "# Preprocess feature columns\n",
    "def preprocess_features(X):\n",
    "    outX = pd.DataFrame(index=X.index)  # output dataframe, initially empty\n",
    "\n",
    "    # Check each column\n",
    "    for col, col_data in X.iteritems():\n",
    "        # If data type is non-numeric, try to replace all yes/no values with 1/0\n",
    "        if col_data.dtype == object:\n",
    "            col_data = col_data.replace(['yes', 'no'], [1, 0])\n",
    "        # Note: This should change the data type for yes/no columns to int\n",
    "\n",
    "        # If still non-numeric, convert to one or more dummy variables\n",
    "        if col_data.dtype == object:\n",
    "            col_data = pd.get_dummies(col_data, prefix=col)  # e.g. 'school' => 'school_GP', 'school_MS'\n",
    "\n",
    "        outX = outX.join(col_data)  # collect column(s) in output dataframe\n",
    "\n",
    "    return outX\n",
    "\n",
    "X_all = preprocess_features(X_all)\n",
    "\n",
    "print \"Processed feature columns ({}):-\\n{}\".format(len(X_all.columns), list(X_all.columns))"
   ]
  },
  {
   "cell_type": "markdown",
   "metadata": {},
   "source": [
    "### Split data into training and test sets\n",
    "\n",
    "So far, we have converted all _categorical_ features into numeric values. In this next step, we split the data (both features and corresponding labels) into training and test sets."
   ]
  },
  {
   "cell_type": "code",
   "execution_count": 6,
   "metadata": {
    "collapsed": false
   },
   "outputs": [
    {
     "name": "stdout",
     "output_type": "stream",
     "text": [
      "Training set: 300 samples\n",
      "Test set: 95 samples\n"
     ]
    }
   ],
   "source": [
    "# First, decide how many training vs test samples you want\n",
    "num_all = student_data.shape[0]  # same as len(student_data)\n",
    "num_train = 300  # about 75% of the data\n",
    "num_test = num_all - num_train\n",
    "\n",
    "# Note: Shuffle the data or randomly select samples to avoid any bias due to ordering in the dataset\n",
    "#select the most \"important\" features (subjective)\n",
    "#test with feature selection\n",
    "#X_all = X_all[['Pstatus_A', 'Pstatus_T', 'Medu','Fedu','studytime','failures','higher','famrel','Dalc','Walc','health','absences']]\n",
    "\n",
    "X_train, X_test, y_train, y_test = train_test_split(X_all, y_all, train_size=num_train, test_size=num_test, random_state=1)\n",
    "print \"Training set: {} samples\".format(X_train.shape[0])\n",
    "print \"Test set: {} samples\".format(X_test.shape[0])\n",
    "\n",
    "#print X_train.head()\n",
    "# Note: If you need a validation set, extract it from within training data"
   ]
  },
  {
   "cell_type": "markdown",
   "metadata": {},
   "source": [
    "## 4. Training and Evaluating Models\n",
    "Choose 3 supervised learning models that are available in scikit-learn, and appropriate for this problem. For each model:\n",
    "\n",
    "- What is the theoretical O(n) time & space complexity in terms of input size?\n",
    "- What are the general applications of this model? What are its strengths and weaknesses?\n",
    "- Given what you know about the data so far, why did you choose this model to apply?\n",
    "- Fit this model to the training data, try to predict labels (for both training and test sets), and measure the F<sub>1</sub> score. Repeat this process with different training set sizes (100, 200, 300), keeping test set constant.\n",
    "\n",
    "Produce a table showing training time, prediction time, F<sub>1</sub> score on training set and F<sub>1</sub> score on test set, for each training set size.\n",
    "\n",
    "Note: You need to produce 3 such tables - one for each model.\n"
   ]
  },
  {
   "cell_type": "markdown",
   "metadata": {},
   "source": [
    "# For this assignment the following supervised learning models are chosen:  \n",
    "Support Vector Machine (SVM), Decision Tree, and Gradient Boosting. The general reasons of chosing these 3 techniques are: \n",
    "1. Widely used\n",
    "2. Robust and often produce good results. \n",
    "3. Cover the most in the Udacity supervised machine learning support courses. \n",
    "\n",
    "The following sections shall explain in more details the rationale of chosing these techniques for our data set. \n",
    "\n",
    "### Support vector machine (SVM) linear classifier\n",
    "\n",
    "####  Rationale \n",
    "Support vector machine (SVM) is a simple yet effective linear classifier. Linear classifier is one of the most used classification techniques. It can also be used for multiple input variables/ features. \n",
    "SVM makes standard linear classifier even more robust for new test set by maximizing the margin between the feature values. \n",
    "Linear classification can be intuitively applied to our student data set by basically \"dividing\" the student into 2 categories (pass/fail) based on a combination of features/ characteristics (e.g. number of hours of studies, father/mother jobs). \n",
    "\n",
    "#### Strengths & weaknesses\n",
    "(taken from in Scikit learn documentation, with extra comments for our data set)\n",
    "General strengths of SVM are: \n",
    "1. Effective in high dimensional spaces (applicable for this data set)\n",
    "2. Still effective in cases where number of dimensions is greater than the number of samples. \n",
    "3. Uses a subset of training points in the decision function (subpport vectors), so it is memory efficient (not very needed for the small data set) \n",
    "4. Versatile: different kernel functions can be provided. \n",
    "\n",
    "Disadvantages of SVM are: \n",
    "1. If number of features is much greater than number of samples, the method is likely to give poor performance. In our data set we have a sufficient number of samples (~20 times more than number of features). \n",
    "2. SVMs do not directly provide probability estimates, these are clculated using an expensive five-fold cross-validation. \n",
    "\n",
    "#### Runtime\n",
    "SVM can be solved with quadratic programming, so i would guess the runtime is O(n^2). \n",
    "\n",
    "#### Results on train & test data\n",
    "\n",
    "<table> \n",
    "    <tr> \n",
    "        <th> Train set</th> \n",
    "        <th> Training time (s)</th>\n",
    "        <th> Prediction time train set (s)</th>\n",
    "        <th> Prediction time test set (s)</th>\n",
    "        <th> F1 score train set </th>\n",
    "        <th> F1 score test set </th>\n",
    "    </tr> \n",
    "    <tr> \n",
    "        <td> 100</td> \n",
    "        <td> 0.0018</td> \n",
    "        <td> 0.0009</td> \n",
    "        <td> 0.0008</td> \n",
    "        <td> 0.859</td> \n",
    "        <td> 0.833</td> \n",
    "    </tr> \n",
    "    <tr> \n",
    "        <td> 200</td> \n",
    "        <td> 0.0063</td> \n",
    "        <td> 0.0031</td> \n",
    "        <td> 0.0012</td> \n",
    "        <td> 0.858</td> \n",
    "        <td> 0.840</td> \n",
    "    </tr> \n",
    "    <tr> \n",
    "        <td> 300</td> \n",
    "        <td> 0.0084</td> \n",
    "        <td> 0.0048</td> \n",
    "        <td> 0.0016</td> \n",
    "        <td> 0.8584</td> \n",
    "        <td> 0.8462</td> \n",
    "    </tr> \n",
    "</table> \n",
    "\n",
    "\n",
    "### Decision Tree classifier\n",
    "#### Description & Rationale \n",
    "Decision tree classification technique is most of the most simple yet widely used in supervised machine learning classification. Applying decision tree on the student intervention dataset can be intuitive and easy to explain to non-technical audience: we use each \"feature\" (characteristic) of students to subdivide them into smaller group. We can combine multiple features to subdivide them further.  \n",
    "\n",
    "\n",
    "#### Strengths & weaknesses\n",
    "(taken from in Scikit learn documentation, with extra comments for our data set)\n",
    "\n",
    "Strengths applicable for our data set and problem domain in general: \n",
    "1. Simple to understand and inteprete. Trees can be visualized. \n",
    "2. Requires little data preparation. \n",
    "3. Relatively fast (logarithmic)\n",
    "4. Able to handle both numerical and categorical data (applicable for our dataset)\n",
    "\n",
    "Weaknesses: \n",
    "1. Overfitting (can be seen with high F1 score for train data, but low for test data)\n",
    "2. Can be unstable because of small variation in data (and small dataset). Can be mitigated using ensemble (gradient boosting). \n",
    "\n",
    "#### Runtime\n",
    "\n",
    "For each depth in the tree, the classification can be calculated using maximum information gain O(n). The tree would have on average log(n), so i would predict the runtime is O(n * log (n)). \n",
    "#### Results on train & test data\n",
    "<table> \n",
    "    <tr> \n",
    "        <th> Train set</th> \n",
    "        <th> Training time (s)</th>\n",
    "        <th> Prediction time train set (s)</th>\n",
    "        <th> Prediction time test set (s)</th>\n",
    "        <th> F1 score train set </th>\n",
    "        <th> F1 score test set </th>\n",
    "    </tr> \n",
    "    <tr> \n",
    "        <td> 100</td> \n",
    "        <td> 0.001</td> \n",
    "        <td> 0.00026</td> \n",
    "        <td> 0.00026</td> \n",
    "        <td> 1.0</td> \n",
    "        <td> 0.621</td> \n",
    "    </tr> \n",
    "    <tr> \n",
    "        <td> 200</td> \n",
    "        <td> 0.0013</td> \n",
    "        <td> 0.00031</td> \n",
    "        <td> 0.000215</td> \n",
    "        <td> 1.0</td> \n",
    "        <td> 0.7424</td> \n",
    "    </tr> \n",
    "    <tr> \n",
    "        <td> 300</td> \n",
    "        <td> 0.00844</td> \n",
    "        <td> 0.00478</td> \n",
    "        <td> 0.0016</td> \n",
    "        <td> 0.8584</td> \n",
    "        <td> 0.84615</td> \n",
    "    </tr> \n",
    "</table> \n",
    "\n",
    "### (Ensemble) Gradient Boosting Classifier\n",
    "\n",
    "### Description & Rationale\n",
    "The core idea behind gradient boosting classifier is turning multiple \"weak\" learners into \"strong\" learners through iterative steps. This can be very applicable in our data set: for example each weak learner in the student data set is picking one feature (e.g. number of hours spent on class, mother/father's education, wants to take higher education), do that iteratively to create a higher performing model. \n",
    "\n",
    "### Strengths & weaknesses\n",
    "(taken from Sci-learn documentation) \n",
    "Strengths: \n",
    "1. Natural handling of data of mixed data (numerical, categorical) (applicable for our data set)\n",
    "2. Predictive power (produce good results, which is always important)\n",
    "3. Robustness to outliners in output space. More robust than for example decision tree. \n",
    "\n",
    "Weaknesses: \n",
    "1. Higher performance cost (multiple step needed). The steps are sequential and are difficult to parallelized). \n",
    "\n",
    "### Runtime\n",
    "Boosting will combine multiple classifiers step by step. So for boosting of SVM, the complexity would be k * O(n^2), where k is the number of steps (number of weak learners). For boosting of decision trees, the compexity would be k * O(n * log(n)).  \n",
    "\n",
    "### Results on train & test data \n",
    "<table> \n",
    "    <tr> \n",
    "        <th> Train set</th> \n",
    "        <th> Training time (s)</th>\n",
    "        <th> Prediction time train set (s)</th>\n",
    "        <th> Prediction time test set (s)</th>\n",
    "        <th> F1 score train set </th>\n",
    "        <th> F1 score test set </th>\n",
    "    </tr> \n",
    "    <tr> \n",
    "        <td> 100</td> \n",
    "        <td> 0.09</td> \n",
    "        <td> 0.0007</td> \n",
    "        <td> 0.0011</td> \n",
    "        <td> 1.0</td> \n",
    "        <td> 0.776</td> \n",
    "    </tr> \n",
    "    <tr> \n",
    "        <td> 200</td> \n",
    "        <td> 0.114</td> \n",
    "        <td> 0.0009</td> \n",
    "        <td> 0.00056</td> \n",
    "        <td> 1.0</td> \n",
    "        <td> 0.776</td> \n",
    "    </tr> \n",
    "    <tr> \n",
    "        <td> 300</td> \n",
    "        <td> 0.136</td> \n",
    "        <td> 0.0013</td> \n",
    "        <td> 0.00066</td> \n",
    "        <td> 0.9706</td> \n",
    "        <td> 0.8</td> \n",
    "    </tr> \n",
    "</table> \n",
    "\n",
    "\n",
    "\n",
    "\n",
    "\n"
   ]
  },
  {
   "cell_type": "code",
   "execution_count": null,
   "metadata": {
    "collapsed": false
   },
   "outputs": [],
   "source": []
  },
  {
   "cell_type": "code",
   "execution_count": 12,
   "metadata": {
    "collapsed": false
   },
   "outputs": [
    {
     "name": "stdout",
     "output_type": "stream",
     "text": [
      "Training SVC...\n",
      "Done!\n",
      "Training time (secs): 0.007457\n",
      "Training DecisionTreeClassifier...\n",
      "Done!\n",
      "Training time (secs): 0.002181\n",
      "Training GradientBoostingClassifier...\n",
      "Done!\n",
      "Training time (secs): 0.146522\n"
     ]
    }
   ],
   "source": [
    "# Train a model\n",
    "import time\n",
    "from sklearn import svm\n",
    "from sklearn.tree import DecisionTreeClassifier\n",
    "from sklearn.ensemble import GradientBoostingClassifier\n",
    "\n",
    "def train_classifier(clf, X_train, y_train):\n",
    "    print \"Training {}...\".format(clf.__class__.__name__)\n",
    "    start = time.time()\n",
    "    clf.fit(X_train, y_train)\n",
    "    end = time.time()\n",
    "    print \"Done!\\nTraining time (secs): {:.6f}\".format(end - start)\n",
    "\n",
    "svm = svm.SVC()\n",
    "tree = DecisionTreeClassifier()\n",
    "boost = GradientBoostingClassifier()\n",
    "\n",
    "# Fit model to training data\n",
    "train_classifier(svm, X_train, y_train)  # note: using entire training set here\n",
    "train_classifier(tree, X_train, y_train)\n",
    "train_classifier(boost, X_train, y_train)\n",
    "\n",
    "#print clf\n",
    "#print tree\n",
    "#print boost\n",
    "#print clf  # you can inspect the learned model by printing it"
   ]
  },
  {
   "cell_type": "code",
   "execution_count": 8,
   "metadata": {
    "collapsed": false
   },
   "outputs": [
    {
     "name": "stdout",
     "output_type": "stream",
     "text": [
      "Predicting labels using SVC...\n",
      "Done!\n",
      "Prediction time (secs): 0.005352\n",
      "Predicting labels using DecisionTreeClassifier...\n",
      "Done!\n",
      "Prediction time (secs): 0.000826\n",
      "Predicting labels using GradientBoostingClassifier...\n",
      "Done!\n",
      "Prediction time (secs): 0.001110\n",
      "F1 score for training set (SVM): 0.858387799564\n",
      "F1 score for training set (Tree): 1.0\n",
      "F1 score for training set (Boost): 0.970588235294\n"
     ]
    }
   ],
   "source": [
    "# Predict on training set and compute F1 score\n",
    "from sklearn.metrics import f1_score\n",
    "\n",
    "def predict_labels(clf, features, target):\n",
    "    print \"Predicting labels using {}...\".format(clf.__class__.__name__)\n",
    "    start = time.time()\n",
    "    y_pred = clf.predict(features)\n",
    "    end = time.time()\n",
    "    print \"Done!\\nPrediction time (secs): {:.6f}\".format(end - start)\n",
    "    return f1_score(target.values, y_pred, pos_label='yes')\n",
    "\n",
    "train_f1_score_svm = predict_labels(svm, X_train, y_train)\n",
    "train_f1_score_tree = predict_labels(tree, X_train, y_train)\n",
    "train_f1_score_boost = predict_labels(boost, X_train, y_train)\n",
    "\n",
    "print \"F1 score for training set (SVM): {}\".format(train_f1_score_svm)\n",
    "print \"F1 score for training set (Tree): {}\".format(train_f1_score_tree)\n",
    "print \"F1 score for training set (Boost): {}\".format(train_f1_score_boost)\n"
   ]
  },
  {
<<<<<<< HEAD
   "cell_type": "code",
   "execution_count": 9,
   "metadata": {
    "collapsed": false
   },
   "outputs": [
    {
     "name": "stdout",
     "output_type": "stream",
     "text": [
      "Predicting labels using SVC...\n",
      "Done!\n",
      "Prediction time (secs): 0.002714\n",
      "F1 score for test set: 0.846153846154\n",
      "Predicting labels using DecisionTreeClassifier...\n",
      "Done!\n",
      "Prediction time (secs): 0.000309\n",
      "F1 score for test set: 0.672131147541\n",
      "Predicting labels using GradientBoostingClassifier...\n",
      "Done!\n",
      "Prediction time (secs): 0.000589\n",
      "F1 score for test set: 0.808823529412\n"
     ]
    }
   ],
   "source": [
    "# Predict on test data\n",
    "print \"F1 score for test set: {}\".format(predict_labels(svm, X_test, y_test))\n",
    "print \"F1 score for test set: {}\".format(predict_labels(tree, X_test, y_test))\n",
    "print \"F1 score for test set: {}\".format(predict_labels(boost, X_test, y_test))"
=======
   "cell_type": "markdown",
   "metadata": {},
   "source": [
    "### Implementation: Model Performance Metrics\n",
    "With the predefined functions above, you will now import the three supervised learning models of your choice and run the `train_predict` function for each one. Remember that you will need to train and predict on each classifier for three different training set sizes: 100, 200, and 300. Hence, you should expect to have 9 different outputs below — 3 for each model using the varying training set sizes. In the following code cell, you will need to implement the following:\n",
    "- Import the three supervised learning models you've discussed in the previous section.\n",
    "- Initialize the three models and store them in `clf_A`, `clf_B`, and `clf_C`.\n",
    " - Use a `random_state` for each model you use, if provided.\n",
    " - **Note:** Use the default settings for each model — you will tune one specific model in a later section.\n",
    "- Create the different training set sizes to be used to train each model.\n",
    " - *Do not reshuffle and resplit the data! The new training points should be drawn from `X_train` and `y_train`.*\n",
    "- Fit each model with each training set size and make predictions on the test set (9 in total).  \n",
    "**Note:** Three tables are provided after the following code cell which can be used to store your results."
>>>>>>> udacity/master
   ]
  },
  {
   "cell_type": "code",
   "execution_count": 13,
   "metadata": {
    "collapsed": false
   },
   "outputs": [
    {
     "name": "stdout",
     "output_type": "stream",
     "text": [
      "------------------------------------------\n",
      "Training set size: 100\n",
      "Training SVC...\n",
      "Done!\n",
      "Training time (secs): 0.001682\n",
      "Predicting labels using SVC...\n",
      "Done!\n",
      "Prediction time (secs): 0.000812\n",
      "F1 score for training set: 0.859060402685\n",
      "Predicting labels using SVC...\n",
      "Done!\n",
      "Prediction time (secs): 0.000765\n",
      "F1 score for test set: 0.833333333333\n",
      "------------------------------------------\n",
      "Training set size: 100\n",
      "Training DecisionTreeClassifier...\n",
      "Done!\n",
      "Training time (secs): 0.000826\n",
      "Predicting labels using DecisionTreeClassifier...\n",
      "Done!\n",
      "Prediction time (secs): 0.000252\n",
      "F1 score for training set: 1.0\n",
      "Predicting labels using DecisionTreeClassifier...\n",
      "Done!\n",
      "Prediction time (secs): 0.000226\n",
      "F1 score for test set: 0.615384615385\n",
      "------------------------------------------\n",
      "Training set size: 100\n",
      "Training GradientBoostingClassifier...\n",
      "Done!\n",
      "Training time (secs): 0.099619\n",
      "Predicting labels using GradientBoostingClassifier...\n",
      "Done!\n",
      "Prediction time (secs): 0.000694\n",
      "F1 score for training set: 1.0\n",
      "Predicting labels using GradientBoostingClassifier...\n",
      "Done!\n",
      "Prediction time (secs): 0.000578\n",
      "F1 score for test set: 0.766917293233\n",
      "*************************************************\n",
      "------------------------------------------\n",
      "Training set size: 200\n",
      "Training SVC...\n",
      "Done!\n",
      "Training time (secs): 0.003887\n",
      "Predicting labels using SVC...\n",
      "Done!\n",
      "Prediction time (secs): 0.002609\n",
      "F1 score for training set: 0.858064516129\n",
      "Predicting labels using SVC...\n",
      "Done!\n",
      "Prediction time (secs): 0.001257\n",
      "F1 score for test set: 0.84076433121\n",
      "------------------------------------------\n",
      "Training set size: 200\n",
      "Training DecisionTreeClassifier...\n",
      "Done!\n",
      "Training time (secs): 0.001634\n",
      "Predicting labels using DecisionTreeClassifier...\n",
      "Done!\n",
      "Prediction time (secs): 0.000554\n",
      "F1 score for training set: 1.0\n",
      "Predicting labels using DecisionTreeClassifier...\n",
      "Done!\n",
      "Prediction time (secs): 0.000261\n",
      "F1 score for test set: 0.764705882353\n",
      "------------------------------------------\n",
      "Training set size: 200\n",
      "Training GradientBoostingClassifier...\n",
      "Done!\n",
      "Training time (secs): 0.110816\n",
      "Predicting labels using GradientBoostingClassifier...\n",
      "Done!\n",
      "Prediction time (secs): 0.001168\n",
      "F1 score for training set: 1.0\n",
      "Predicting labels using GradientBoostingClassifier...\n",
      "Done!\n",
      "Prediction time (secs): 0.000815\n",
      "F1 score for test set: 0.77037037037\n",
      "*************************************************\n",
      "------------------------------------------\n",
      "Training set size: 300\n",
      "Training SVC...\n",
      "Done!\n",
      "Training time (secs): 0.007950\n",
      "Predicting labels using SVC...\n",
      "Done!\n",
      "Prediction time (secs): 0.004926\n",
      "F1 score for training set: 0.858387799564\n",
      "Predicting labels using SVC...\n",
      "Done!\n",
      "Prediction time (secs): 0.001666\n",
      "F1 score for test set: 0.846153846154\n",
      "------------------------------------------\n",
      "Training set size: 300\n",
      "Training DecisionTreeClassifier...\n",
      "Done!\n",
      "Training time (secs): 0.002009\n",
      "Predicting labels using DecisionTreeClassifier...\n",
      "Done!\n",
      "Prediction time (secs): 0.000383\n",
      "F1 score for training set: 1.0\n",
      "Predicting labels using DecisionTreeClassifier...\n",
      "Done!\n",
      "Prediction time (secs): 0.000213\n",
      "F1 score for test set: 0.677685950413\n",
      "------------------------------------------\n",
      "Training set size: 300\n",
      "Training GradientBoostingClassifier...\n",
      "Done!\n",
      "Training time (secs): 0.138959\n",
      "Predicting labels using GradientBoostingClassifier...\n",
      "Done!\n",
      "Prediction time (secs): 0.001199\n",
      "F1 score for training set: 0.970588235294\n",
      "Predicting labels using GradientBoostingClassifier...\n",
      "Done!\n",
      "Prediction time (secs): 0.000638\n",
      "F1 score for test set: 0.8\n",
      "*************************************************\n"
     ]
    }
   ],
   "source": [
    "# Train and predict using different training set sizes\n",
    "def train_predict(clf, X_train, y_train, X_test, y_test):\n",
    "    print \"------------------------------------------\"\n",
    "    print \"Training set size: {}\".format(len(X_train))\n",
    "    train_classifier(clf, X_train, y_train)\n",
    "    print \"F1 score for training set: {}\".format(predict_labels(clf, X_train, y_train))\n",
    "    print \"F1 score for test set: {}\".format(predict_labels(clf, X_test, y_test))\n",
    "\n",
    "# Note: Keep the test set constant\n",
    "\n",
    "for train_size in [100, 200, 300]:\n",
    "    train_predict(svm, X_train[:train_size], y_train[:train_size], X_test, y_test)\n",
    "    train_predict(tree, X_train[:train_size], y_train[:train_size], X_test, y_test)\n",
    "    train_predict(boost, X_train[:train_size], y_train[:train_size], X_test, y_test)\n",
    "    print \"*************************************************\"\n"
   ]
  },
  {
   "cell_type": "code",
   "execution_count": null,
   "metadata": {
    "collapsed": false
   },
   "outputs": [],
   "source": []
  },
  {
   "cell_type": "markdown",
   "metadata": {},
   "source": [
    "## 5. Choosing the Best Model\n",
    "\n",
<<<<<<< HEAD
    "- Based on the experiments you performed earlier, in 1-2 paragraphs explain to the board of supervisors what single model you chose as the best model. Which model is generally the most appropriate based on the available data, limited resources, cost, and performance?\n",
    "- In 1-2 paragraphs explain to the board of supervisors in layman's terms how the final model chosen is supposed to work (for example if you chose a Decision Tree or Support Vector Machine, how does it make a prediction).\n",
    "- Fine-tune the model. Use Gridsearch with at least one important parameter tuned and with at least 3 settings. Use the entire training set for this.\n",
    "- What is the model's final F<sub>1</sub> score?\n",
=======
    "| Training Set Size | Training Time | Prediction Time (test) | F1 Score (train) | F1 Score (test) |\n",
    "| :---------------: | :---------------------: | :--------------------: | :--------------: | :-------------: |\n",
    "| 100               |                         |                        |                  |                 |\n",
    "| 200               |        EXAMPLE          |                        |                  |                 |\n",
    "| 300               |                         |                        |                  |    EXAMPLE      |\n",
>>>>>>> udacity/master
    "\n",
    "\n",
<<<<<<< HEAD
    "I would like to choose Gradient boosting for the final models because of the following reasons: \n",
    "1. From the F1 score in \"training and evaluating model\" section (4), SVM and Gradient Boosting are the good candidates to use. Decision Tree tends to overfit (very good F1 score with training set, but poor on test set), and it is unstable with a small traing set size (F1 score of test set around 0.66 when train set size is 100). \n",
=======
    "| Training Set Size | Training Time | Prediction Time (test) | F1 Score (train) | F1 Score (test) |\n",
    "| :---------------: | :---------------------: | :--------------------: | :--------------: | :-------------: |\n",
    "| 100               |                         |                        |                  |                 |\n",
    "| 200               |     EXAMPLE             |                        |                  |                 |\n",
    "| 300               |                         |                        |                  |     EXAMPLE     |\n",
>>>>>>> udacity/master
    "\n",
    "For both SVM and Gradient Boosting, the F1 score for test set (for all train set size) are in the range of ~ 0.77 to 0.85, which is really good. The F1 score for the \"without tuning\" SVM is higher than Gradient Boosting, but we believe  proper tuning (GridSearchCV), we believe we can get higher with Gradient Boosting (this algorithm is well-known for its predictive power).\n",
    "2. It is one of the most used and high performing models for both academics and machine learning practitioners. A foremost strength of Gradient Boosting is its predictive power (giving good results). \n",
    "3. It can be intuitively applied to the students data set because it basically allow us to improve our prediction base on some simple guesses (weak learners). \n",
    "4. The run time (cost) of this model can be higher, but considering the small scale of the dataset (for the school district), the runtime and resources would be managable. \n",
    "\n",
<<<<<<< HEAD
    "Gradient boosting can be intuitively applied to the student data set because gradient boosting basically consists of doing the following steps repeatedly (until a certain tuned threshold): \n",
    "\n",
    "1. The first step of gradient boosting is creating a decision tree. This is analogous to taking simple student characteristics (e.g. number of hours studying, parents jobs...) to predict the student outcome (e.g. less than 10 hours of study per week means fail, more meaning pass). This often already gives a better result than by chance (50%). We can do the same of each of the feature, and apply a certain weighting factor (importance) to each of those.  Applying decision tree to student data is also very intuitive since it categorize the students into pass/fail category using a single feature (student characteristics). This is also very easy to do. \n",
    "\n",
    "2. The second step of gradient boosting is, not surprisingly \"boosting\". Based on the prediction we got wrong, and combined with other \"random\" data, we can continued making new prediction based on other student characteristics. Since we \"optimize\" on the data set we got wrong, this will continue to product better results. The key idea is based on the characterisics (decision tree) we decide in step (1), we can continuously adapt, and assign weighting factor to each of the feature (student characteristic) to arrive at a better student by each iteration. \n",
    "\n",
    "Please run the following code to see grid search with gradient boosting and final results (can take 2 minute). \n",
    "F1 score I get for train set size 300 is 0.855263157895. \n"
=======
    "| Training Set Size | Training Time | Prediction Time (test) | F1 Score (train) | F1 Score (test) |\n",
    "| :---------------: | :---------------------: | :--------------------: | :--------------: | :-------------: |\n",
    "| 100               |                         |                        |                  |                 |\n",
    "| 200               |                         |                        |                  |                 |\n",
    "| 300               |                         |                        |                  |                 |"
   ]
  },
  {
   "cell_type": "markdown",
   "metadata": {},
   "source": [
    "## Choosing the Best Model\n",
    "In this final section, you will choose from the three supervised learning models the *best* model to use on the student data. You will then perform a grid search optimization for the model over the entire training set (`X_train` and `y_train`) by tuning at least one parameter to improve upon the untuned model's F<sub>1</sub> score. "
   ]
  },
  {
   "cell_type": "markdown",
   "metadata": {},
   "source": [
    "### Question 3 - Chosing the Best Model\n",
    "*Based on the experiments you performed earlier, in one to two paragraphs, explain to the board of supervisors what single model you chose as the best model. Which model is generally the most appropriate based on the available data, limited resources, cost, and performance?*"
   ]
  },
  {
   "cell_type": "markdown",
   "metadata": {},
   "source": [
    "**Answer: **"
   ]
  },
  {
   "cell_type": "markdown",
   "metadata": {},
   "source": [
    "### Question 4 - Model in Layman's Terms\n",
    "*In one to two paragraphs, explain to the board of directors in layman's terms how the final model chosen is supposed to work. For example if you've chosen to use a decision tree or a support vector machine, how does the model go about making a prediction?*"
   ]
  },
  {
   "cell_type": "markdown",
   "metadata": {},
   "source": [
    "**Answer: **"
   ]
  },
  {
   "cell_type": "markdown",
   "metadata": {},
   "source": [
    "### Implementation: Model Tuning\n",
    "Fine tune the chosen model. Use grid search (`GridSearchCV`) with at least one important parameter tuned with at least 3 different values. You will need to use the entire training set for this. In the code cell below, you will need to implement the following:\n",
    "- Import [`sklearn.grid_search.gridSearchCV`](http://scikit-learn.org/stable/modules/generated/sklearn.grid_search.GridSearchCV.html) and [`sklearn.metrics.make_scorer`](http://scikit-learn.org/stable/modules/generated/sklearn.metrics.make_scorer.html).\n",
    "- Create a dictionary of parameters you wish to tune for the chosen model.\n",
    " - Example: `parameters = {'parameter' : [list of values]}`.\n",
    "- Initialize the classifier you've chosen and store it in `clf`.\n",
    "- Create the F<sub>1</sub> scoring function using `make_scorer` and store it in `f1_scorer`.\n",
    " - Set the `pos_label` parameter to the correct value!\n",
    "- Perform grid search on the classifier `clf` using `f1_scorer` as the scoring method, and store it in `grid_obj`.\n",
    "- Fit the grid search object to the training data (`X_train`, `y_train`), and store it in `grid_obj`."
>>>>>>> udacity/master
   ]
  },
  {
   "cell_type": "code",
   "execution_count": 11,
   "metadata": {
    "collapsed": false
   },
<<<<<<< HEAD
   "outputs": [
    {
     "name": "stdout",
     "output_type": "stream",
     "text": [
      "Done!\n",
      " GridSearch CV time (secs): 132.267\n",
      "{'n_estimators': 100, 'loss': 'deviance', 'learning_rate': 0.01, 'max_depth': 3}\n",
      "------------------------------------------\n",
      "Training set size: 100\n",
      "Training GradientBoostingClassifier...\n",
      "Done!\n",
      "Training time (secs): 0.086457\n",
      "Predicting labels using GradientBoostingClassifier...\n",
      "Done!\n",
      "Prediction time (secs): 0.000521\n",
      "F1 score for training set: 0.902777777778\n",
      "Predicting labels using GradientBoostingClassifier...\n",
      "Done!\n",
      "Prediction time (secs): 0.000570\n",
      "F1 score for test set: 0.818791946309\n",
      "------------------------------------------\n",
      "Training set size: 200\n",
      "Training GradientBoostingClassifier...\n",
      "Done!\n",
      "Training time (secs): 0.119282\n",
      "Predicting labels using GradientBoostingClassifier...\n",
      "Done!\n",
      "Prediction time (secs): 0.000887\n",
      "F1 score for training set: 0.846153846154\n",
      "Predicting labels using GradientBoostingClassifier...\n",
      "Done!\n",
      "Prediction time (secs): 0.000527\n",
      "F1 score for test set: 0.835443037975\n",
      "------------------------------------------\n",
      "Training set size: 300\n",
      "Training GradientBoostingClassifier...\n",
      "Done!\n",
      "Training time (secs): 0.140824\n",
      "Predicting labels using GradientBoostingClassifier...\n",
      "Done!\n",
      "Prediction time (secs): 0.001132\n",
      "F1 score for training set: 0.846652267819\n",
      "Predicting labels using GradientBoostingClassifier...\n",
      "Done!\n",
      "Prediction time (secs): 0.000512\n",
      "F1 score for test set: 0.83660130719\n"
     ]
    }
   ],
   "source": [
    "# TODO: Fine-tune your model and report the best F1 score\n",
    "#choose gradient boosting \n",
    "#parameters of gradient boosting to optimize: learning_rate, n_estimators, max_depth\n",
    "from sklearn.grid_search import GridSearchCV\n",
    "from sklearn.metrics import make_scorer\n",
    "\n",
    "def performance_metric(y_true, y_predict):\n",
    "    return f1_score(y_true, y_predict, pos_label='yes')\n",
    "\n",
    "\n",
    "def find_boost_hyperparameters():\n",
    "    \n",
    "    start = time.time()\n",
=======
   "outputs": [],
   "source": [
    "# TODO: Import 'GridSearchCV' and 'make_scorer'\n",
>>>>>>> udacity/master
    "\n",
    "\n",
    "    #params = {'n_estimators':(50, 100, 200, 500, 1000),\n",
    "    #          'learning_rate':(0.01, 0.02, 0.04, 0.08, 0.1, 0.2, 0.4, 0.8 )}\n",
    "    # -> return n_estimators:200, learning_rate:0.01\n",
    "\n",
    "    params = {'n_estimators':(50, 100, 200, 500, 1000),\n",
    "              'learning_rate':(0.01, 0.02, 0.1),\n",
    "              'max_depth':(1, 2, 3, 4),\n",
    "              'loss':('deviance', 'exponential')\n",
    "             }\n",
    "\n",
    "    scorer = make_scorer(performance_metric, greater_is_better = True)\n",
    "    grid_search = GridSearchCV(boost, params, scoring = scorer)\n",
    "    #print grid_search \n",
    "    grid_search.fit(X_train, y_train)\n",
    "\n",
    "    end = time.time()\n",
    "\n",
    "    print \"Done!\\n GridSearch CV time (secs): {:.3f}\".format(end - start)\n",
    "\n",
    "    return grid_search.best_params_\n",
    "\n",
    "best_params = find_boost_hyperparameters()\n",
    "print best_params\n",
    "\n",
    "boost = GradientBoostingClassifier(n_estimators = best_params['n_estimators'], \n",
    "                                   learning_rate = best_params['learning_rate'], \n",
    "                                   max_depth = best_params['max_depth'], \n",
    "                                   loss = best_params['loss'])\n",
    "\n",
    "for experiment_train_size in [100, 200, 300]:\n",
    "    X_train, X_test, y_train, y_test = train_test_split(X_all, y_all, train_size=experiment_train_size, test_size=num_test, random_state=1)\n",
    "    train_predict(boost, X_train, y_train, X_test, y_test)\n",
    "\n",
    "\n"
   ]
  },
  {
   "cell_type": "code",
   "execution_count": null,
   "metadata": {
    "collapsed": true
   },
   "outputs": [],
   "source": []
  }
 ],
 "metadata": {
  "kernelspec": {
   "display_name": "Python 2",
   "language": "python",
   "name": "python2"
  },
  "language_info": {
   "codemirror_mode": {
    "name": "ipython",
    "version": 2
   },
   "file_extension": ".py",
   "mimetype": "text/x-python",
   "name": "python",
   "nbconvert_exporter": "python",
   "pygments_lexer": "ipython2",
   "version": "2.7.11"
  }
 },
 "nbformat": 4,
 "nbformat_minor": 0
}
